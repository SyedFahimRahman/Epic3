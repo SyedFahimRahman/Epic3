{
 "cells": [
  {
   "cell_type": "markdown",
   "source": [
    "LGBTM"
   ],
   "metadata": {
    "collapsed": false
   },
   "id": "d3586f11e862c277"
  },
  {
   "cell_type": "code",
   "execution_count": null,
   "id": "initial_id",
   "metadata": {
    "collapsed": true
   },
   "outputs": [],
   "source": [
    "import os\n",
    "for dirname, _, filenames in os.walk('/kaggle/input'):\n",
    "    for filename in filenames:\n",
    "        print(os.path.join(dirname, filename))"
   ]
  },
  {
   "cell_type": "code",
   "outputs": [],
   "source": [
    "import pandas as pd\n",
    "import matplotlib.pyplot as plt\n",
    "import numpy as np\n",
    "import seaborn as sns\n",
    "import plotly.express as px\n",
    "import plotly.graph_objects as go\n",
    "import plotly.offline as pyo \n",
    "import plotly.io as pio\n",
    "\n",
    "\n",
    "import warnings\n",
    "warnings.filterwarnings('ignore')"
   ],
   "metadata": {
    "collapsed": false
   },
   "id": "3999d8c7a1e5ca6f"
  },
  {
   "cell_type": "code",
   "outputs": [],
   "source": [
    "df = pd.read_csv('C:/Users/23376066/PycharmProjects/Epic3/datasets/clean/terrorist-attacks new.csv')"
   ],
   "metadata": {
    "collapsed": false
   },
   "id": "437ef62706abf51a"
  },
  {
   "cell_type": "code",
   "outputs": [],
   "source": [
    "print('### first 5 lines ###','\\n')\n",
    "df.head()"
   ],
   "metadata": {
    "collapsed": false
   },
   "id": "2559bde747e79f5a"
  },
  {
   "cell_type": "code",
   "outputs": [],
   "source": [
    "print('### last 5 lines ###','\\n')\n",
    "df.tail()"
   ],
   "metadata": {
    "collapsed": false
   },
   "id": "19c5c470053b79f"
  },
  {
   "cell_type": "code",
   "outputs": [],
   "source": [
    "rows = df.shape[0] \n",
    "cols = df.shape[1] \n",
    "print(\"Rows   : \" + str(rows)) \n",
    "print(\"Columns: \" + str(cols))"
   ],
   "metadata": {
    "collapsed": false
   },
   "id": "7ae6f08fbcde620b"
  }
 ],
 "metadata": {
  "kernelspec": {
   "display_name": "Python 3",
   "language": "python",
   "name": "python3"
  },
  "language_info": {
   "codemirror_mode": {
    "name": "ipython",
    "version": 2
   },
   "file_extension": ".py",
   "mimetype": "text/x-python",
   "name": "python",
   "nbconvert_exporter": "python",
   "pygments_lexer": "ipython2",
   "version": "2.7.6"
  }
 },
 "nbformat": 4,
 "nbformat_minor": 5
}

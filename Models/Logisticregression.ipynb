{
 "cells": [
  {
   "cell_type": "code",
   "execution_count": 3,
   "id": "initial_id",
   "metadata": {
    "collapsed": true,
    "ExecuteTime": {
     "end_time": "2024-03-20T13:33:53.758893Z",
     "start_time": "2024-03-20T13:33:37.658774Z"
    }
   },
   "outputs": [
    {
     "name": "stdout",
     "output_type": "stream",
     "text": [
      "Accuracy: 0.5289923954372624\n"
     ]
    },
    {
     "name": "stderr",
     "output_type": "stream",
     "text": [
      "C:\\Users\\23376066\\PycharmProjects\\Epic3\\.venv\\Lib\\site-packages\\sklearn\\linear_model\\_logistic.py:469: ConvergenceWarning: lbfgs failed to converge (status=1):\n",
      "STOP: TOTAL NO. of ITERATIONS REACHED LIMIT.\n",
      "\n",
      "Increase the number of iterations (max_iter) or scale the data as shown in:\n",
      "    https://scikit-learn.org/stable/modules/preprocessing.html\n",
      "Please also refer to the documentation for alternative solver options:\n",
      "    https://scikit-learn.org/stable/modules/linear_model.html#logistic-regression\n",
      "  n_iter_i = _check_optimize_result(\n"
     ]
    }
   ],
   "source": [
    "import pandas as pd\n",
    "from sklearn.model_selection import train_test_split\n",
    "from sklearn.preprocessing import StandardScaler, LabelEncoder\n",
    "from sklearn.linear_model import LogisticRegression\n",
    "from sklearn.metrics import accuracy_score\n",
    "\n",
    "# 1. Load the dataset\n",
    "dataset = pd.read_csv('C:/Users/23376066/PycharmProjects/Epic3/datasets/clean/terrorist-attacks new.csv')\n",
    "\n",
    "# Initialize LabelEncoder for categorical columns\n",
    "label_encoder_entity = LabelEncoder()\n",
    "label_encoder_code = LabelEncoder()\n",
    "\n",
    "# Apply LabelEncoder to convert categorical variables into numerical values\n",
    "dataset['Entity'] = label_encoder_entity.fit_transform(dataset['Entity'])\n",
    "dataset['Code'] = label_encoder_code.fit_transform(dataset['Code'])\n",
    "\n",
    "# 3. Split the data into training and testing sets\n",
    "X = dataset.drop(columns=['Terrorist attacks'])  # Replace 'target_column' with the name of your target column\n",
    "Y = dataset['Terrorist attacks']  # Replace 'target_column' with the name of your target column\n",
    "\n",
    "X_train, X_test, Y_train, Y_test = train_test_split(X, Y, test_size=0.2, random_state=42)\n",
    "\n",
    "# 4. Apply logistic regression\n",
    "# Initialize the logistic regression model\n",
    "log_reg = LogisticRegression()\n",
    "\n",
    "# Fit the model on the training data\n",
    "log_reg.fit(X_train, Y_train)\n",
    "\n",
    "# Predict on the testing data\n",
    "Y_pred = log_reg.predict(X_test)\n",
    "\n",
    "# Evaluate the model\n",
    "accuracy = accuracy_score(Y_test, Y_pred)\n",
    "print(\"Accuracy:\", accuracy)\n"
   ]
  }
 ],
 "metadata": {
  "kernelspec": {
   "display_name": "Python 3",
   "language": "python",
   "name": "python3"
  },
  "language_info": {
   "codemirror_mode": {
    "name": "ipython",
    "version": 2
   },
   "file_extension": ".py",
   "mimetype": "text/x-python",
   "name": "python",
   "nbconvert_exporter": "python",
   "pygments_lexer": "ipython2",
   "version": "2.7.6"
  }
 },
 "nbformat": 4,
 "nbformat_minor": 5
}
